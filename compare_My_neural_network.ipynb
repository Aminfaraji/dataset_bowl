{
  "cells": [
    {
      "cell_type": "markdown",
      "metadata": {
        "id": "view-in-github",
        "colab_type": "text"
      },
      "source": [
        "<a href=\"https://colab.research.google.com/github/Aminfaraji/dataset_bowl/blob/main/compare_My_neural_network.ipynb\" target=\"_parent\"><img src=\"https://colab.research.google.com/assets/colab-badge.svg\" alt=\"Open In Colab\"/></a>"
      ]
    },
    {
      "cell_type": "code",
      "execution_count": 1,
      "metadata": {
        "id": "8Pc6i70lCBiw"
      },
      "outputs": [],
      "source": [
        "import glob,cv2\n",
        "import numpy as np\n",
        "from google.colab.patches import cv2_imshow\n",
        "import matplotlib.pyplot as plt\n",
        "from keras.preprocessing.image import load_img,img_to_array\n",
        "import numpy as np\n",
        "import glob\n",
        "from sklearn.metrics import multilabel_confusion_matrix\n",
        "import time\n",
        "# import nibabel\n",
        "import pandas as pd\n",
        "import seaborn as sn\n",
        "import matplotlib.pyplot as plt\n",
        "# from skimage.util import montage\n",
        "import os,cv2\n",
        "# from google.colab.patches import cv2_imshow\n",
        "from scipy import ndimage\n",
        "import tensorflow as tf\n",
        "# from skimage import io\n",
        "from tensorflow.keras import Input,Model\n",
        "from tensorflow.keras.regularizers import l2,l1\n",
        "# from google.colab.patches import cv2_imshow\n",
        "from tensorflow.keras.layers import Conv2D,ReLU,UpSampling2D,Activation,BatchNormalization,MaxPooling2D,concatenate,Conv2DTranspose\n",
        "from tensorflow.keras.optimizers import RMSprop,Adam\n",
        "from tensorflow.keras.preprocessing.image import load_img,img_to_array\n",
        "import tensorflow.keras as K\n",
        "from tensorflow.keras.preprocessing.image import ImageDataGenerator\n",
        "# from skimage.exposure import rescale_intensity\n",
        "# from skimage.segmentation import mark_boundaries\n",
        "from tensorflow.python.keras.layers.core import Dropout\n",
        "from sklearn.preprocessing import normalize\n",
        "from tensorflow.python.keras.layers.advanced_activations import LeakyReLU\n",
        "from tqdm import tqdm\n",
        "# import tifffile\n",
        "from skimage.transform import resize\n",
        "from skimage.util import montage\n",
        "import nibabel as ni\n",
        "import pandas as pd\n",
        "\n"
      ]
    },
    {
      "cell_type": "code",
      "source": [
        "!pip install nibabel --upgrade"
      ],
      "metadata": {
        "colab": {
          "base_uri": "https://localhost:8080/",
          "height": 351
        },
        "id": "M7SqGb0ntHkm",
        "outputId": "80a7fc70-8e1c-4379-d027-7a4634f16798"
      },
      "execution_count": null,
      "outputs": [
        {
          "output_type": "stream",
          "name": "stdout",
          "text": [
            "Requirement already satisfied: nibabel in /usr/local/lib/python3.7/dist-packages (3.0.2)\n",
            "Collecting nibabel\n",
            "  Downloading nibabel-3.2.1-py3-none-any.whl (3.3 MB)\n",
            "\u001b[K     |████████████████████████████████| 3.3 MB 12.6 MB/s \n",
            "\u001b[?25hRequirement already satisfied: packaging>=14.3 in /usr/local/lib/python3.7/dist-packages (from nibabel) (21.3)\n",
            "Requirement already satisfied: numpy>=1.14 in /usr/local/lib/python3.7/dist-packages (from nibabel) (1.19.5)\n",
            "Requirement already satisfied: pyparsing!=3.0.5,>=2.0.2 in /usr/local/lib/python3.7/dist-packages (from packaging>=14.3->nibabel) (3.0.6)\n",
            "Installing collected packages: nibabel\n",
            "  Attempting uninstall: nibabel\n",
            "    Found existing installation: nibabel 3.0.2\n",
            "    Uninstalling nibabel-3.0.2:\n",
            "      Successfully uninstalled nibabel-3.0.2\n",
            "Successfully installed nibabel-3.2.1\n"
          ]
        },
        {
          "output_type": "display_data",
          "data": {
            "application/vnd.colab-display-data+json": {
              "pip_warning": {
                "packages": [
                  "nibabel"
                ]
              }
            }
          },
          "metadata": {}
        }
      ]
    },
    {
      "cell_type": "code",
      "source": [
        "segment_path=glob.glob(\"/content/drive/MyDrive/LITS17/segmentation*\")\n",
        "orginal_path=glob.glob(\"/content/drive/MyDrive/LITS17/volume*\")\n",
        "def read_nii(filepath):\n",
        "    '''\n",
        "    Reads .nii file and returns pixel array\n",
        "    '''\n",
        "    ct_scan = ni.load(filepath)\n",
        "    array   = ct_scan.get_fdata()\n",
        "    array   = np.rot90(np.array(array))\n",
        "    return(array)\n",
        "def normalize(volume):\n",
        "    \"\"\"Normalize the volume\"\"\"\n",
        "    min =np.amin(volume)\n",
        "    max = np.amax(volume)\n",
        "    volume[volume < min] = min\n",
        "    volume[volume > max] = max\n",
        "    volume = (volume - min) / (max - min)\n",
        "    volume = volume.astype(\"float32\")\n",
        "    return volume\n",
        "\n",
        "def resize_volume(img):\n",
        "    \"\"\"Resize across z-axis\"\"\"\n",
        "    # Set the desired depth\n",
        "    desired_depth = 64\n",
        "    desired_width = 512\n",
        "    desired_height = 512\n",
        "    # Get current depth\n",
        "    current_depth = img.shape[-1]\n",
        "    current_width = img.shape[0]\n",
        "    current_height = img.shape[1]\n",
        "    # Compute depth factor\n",
        "    depth = current_depth / desired_depth\n",
        "    width = current_width / desired_width\n",
        "    height = current_height / desired_height\n",
        "    depth_factor = 1 / depth\n",
        "    width_factor = 1 / width\n",
        "    height_factor = 1 / height\n",
        "    # Rotate\n",
        "    img = ndimage.rotate(img, 90, reshape=False)\n",
        "    # Resize across z-axis\n",
        "    img = ndimage.zoom(img, (width_factor, height_factor, depth_factor), order=1)\n",
        "    return img\n",
        "  \n",
        "def process_scan(path):\n",
        "    \"\"\"Read and resize volume\"\"\"\n",
        "    # Read scan\n",
        "    volume = read_nii(path)\n",
        "    # Normalize\n",
        "    volume = normalize(volume)\n",
        "    # Resize width, height and depth\n",
        "    volume = resize_volume(volume)\n",
        "    return volume"
      ],
      "metadata": {
        "id": "17_iVlTYTCqJ"
      },
      "execution_count": 57,
      "outputs": []
    },
    {
      "cell_type": "code",
      "source": [
        "# seg=process_scan('/content/drive/MyDrive/LITS17/segmentation-120.nii')\n",
        "# org=process_scan(\"/content/drive/MyDrive/LITS17/volume-120.nii\")\n",
        "plt.matshow(org[:,:,39],cmap='gray')\n",
        "plt.matshow(seg[:,:,39],cmap='gray')"
      ],
      "metadata": {
        "colab": {
          "base_uri": "https://localhost:8080/",
          "height": 550
        },
        "id": "_SWi_UsjZ8M9",
        "outputId": "ddf8b911-75ad-4381-a085-15925c6ff2a7"
      },
      "execution_count": 63,
      "outputs": [
        {
          "output_type": "execute_result",
          "data": {
            "text/plain": [
              "<matplotlib.image.AxesImage at 0x7fa1de5dbed0>"
            ]
          },
          "metadata": {},
          "execution_count": 63
        },
        {
          "output_type": "display_data",
          "data": {
            "image/png": "[encoded data removed]",
            "text/plain": [
              "<Figure size 288x288 with 1 Axes>"
            ]
          },
          "metadata": {
            "needs_background": "light"
          }
        },
        {
          "output_type": "display_data",
          "data": {
            "image/png": "[encoded data removed]",
            "text/plain": [
              "<Figure size 288x288 with 1 Axes>"
            ]
          },
          "metadata": {
            "needs_background": "light"
          }
        }
      ]
    },
    {
      "cell_type": "code",
      "source": [
        ""
      ],
      "metadata": {
        "colab": {
          "base_uri": "https://localhost:8080/"
        },
        "id": "GuW5OHuK3B9f",
        "outputId": "03f05081-f931-4011-90f9-2b58dc4fd835"
      },
      "execution_count": 25,
      "outputs": [
        {
          "output_type": "execute_result",
          "data": {
            "text/plain": [
              "0.02335766423357664"
            ]
          },
          "metadata": {},
          "execution_count": 25
        }
      ]
    },
    {
      "cell_type": "code",
      "source": [
        "# train=[]\n",
        "# mask=[]\n",
        "# i=0\n",
        "# for file in orginal_path:\n",
        "#   if i!=10:\n",
        "#     train.append(process_scan(file))\n",
        "#     print(file)\n",
        "#     file=file.replace('volume','segmentation')\n",
        "#     print(file)\n",
        "#     mask.append(process_scan(file))\n",
        "#     i+=1\n",
        "#   else:\n",
        "#     break\n",
        "train=np.array(train)\n",
        "mask=np.array(mask)"
      ],
      "metadata": {
        "id": "gslFB5ygtlLu"
      },
      "execution_count": null,
      "outputs": []
    },
    {
      "cell_type": "code",
      "source": [
        ""
      ],
      "metadata": {
        "colab": {
          "base_uri": "https://localhost:8080/",
          "height": 292
        },
        "id": "HgoJ1z1o5pph",
        "outputId": "533a9abf-0f59-4f33-e291-f338a6063ab4"
      },
      "execution_count": null,
      "outputs": [
        {
          "output_type": "execute_result",
          "data": {
            "text/plain": [
              "<matplotlib.image.AxesImage at 0x7f1a6a52f250>"
            ]
          },
          "metadata": {},
          "execution_count": 25
        },
        {
          "output_type": "display_data",
          "data": {
            "image/png": "[encoded data removed]",
            "text/plain": [
              "<Figure size 288x288 with 1 Axes>"
            ]
          },
          "metadata": {
            "needs_background": "light"
          }
        }
      ]
    },
    {
      "cell_type": "code",
      "source": [
        "!pip install -q kaggle\n",
        "!pip install --upgrade --force-reinstall --no-deps kaggle\n",
        "!mkdir -p ~/.kaggle\n",
        "!cp kaggle.json ~/.kaggle/\n",
        "!ls ~/.kaggle\n",
        "!chmod 600 /root/.kaggle/kaggle.json\n",
        "# !kaggle competitions download -c data-science-bowl-2018\n",
        "!kaggle datasets download -d andrewmvd/lits-png"
      ],
      "metadata": {
        "id": "aPAqT2viC4kJ",
        "colab": {
          "base_uri": "https://localhost:8080/"
        },
        "outputId": "521d37ae-9ac3-400a-a7d5-947accbcee9f"
      },
      "execution_count": 10,
      "outputs": [
        {
          "output_type": "stream",
          "name": "stdout",
          "text": [
            "Collecting kaggle\n",
            "  Using cached kaggle-1.5.12-py3-none-any.whl\n",
            "Installing collected packages: kaggle\n",
            "  Attempting uninstall: kaggle\n",
            "    Found existing installation: kaggle 1.5.12\n",
            "    Uninstalling kaggle-1.5.12:\n",
            "      Successfully uninstalled kaggle-1.5.12\n",
            "Successfully installed kaggle-1.5.12\n",
            "kaggle.json\n",
            "Downloading lits-png.zip to /content\n",
            "100% 3.39G/3.40G [00:59<00:00, 28.7MB/s]\n",
            "100% 3.40G/3.40G [00:59<00:00, 61.3MB/s]\n"
          ]
        }
      ]
    },
    {
      "cell_type": "code",
      "execution_count": 69,
      "metadata": {
        "id": "0W89rUHcCiKe"
      },
      "outputs": [],
      "source": [
        "# !unzip /content/data-science-bowl-2018.zip -d /content/data-science-bowl-2018\n",
        "# !unzip /content/data-science-bowl-2018/stage1_train.zip -d /content/stage1_train\n",
        "# !unzip /content/data-science-bowl-2018/stage1_test.zip -d /content/stage1_test\n",
        "# !unzip /content/lits-png.zip -d /content/lits-png"
      ]
    },
    {
      "cell_type": "code",
      "source": [
        ""
      ],
      "metadata": {
        "id": "UWtwYoGPo316"
      },
      "execution_count": 68,
      "outputs": []
    },
    {
      "cell_type": "code",
      "source": [
        ""
      ],
      "metadata": {
        "id": "rI3KTsmKom-h"
      },
      "execution_count": null,
      "outputs": []
    },
    {
      "cell_type": "code",
      "execution_count": null,
      "metadata": {
        "id": "6emfPP6WhQ4V"
      },
      "outputs": [],
      "source": [
        "IMG_WIDTH = 128\n",
        "IMG_HEIGHT = 128\n",
        "IMG_CHANNELS = 64\n",
        "# TRAIN_PATH = 'stage1_train/'\n",
        "# TEST_PATH = 'stage1_test/'\n",
        "# train_ids = next(os.walk(TRAIN_PATH))[1] \n",
        "# test_ids = next(os.walk(TEST_PATH))[1]\n",
        "# X_train = np.zeros((len(train_ids), IMG_HEIGHT, IMG_WIDTH, IMG_CHANNELS), dtype=np.uint8)\n",
        "# Y_train = np.zeros((len(train_ids), IMG_HEIGHT, IMG_WIDTH, 1), dtype=np.bool)\n",
        "# print('Resizing training images and masks')\n",
        "# for n, id_ in tqdm(enumerate(train_ids), total=len(train_ids)):  \n",
        "#     path = TRAIN_PATH + id_\n",
        "#     img = cv2.imread(path + '/images/' + id_ + '.png')\n",
        "#     img = resize(img, (IMG_HEIGHT, IMG_WIDTH), mode='constant', preserve_range=True)\n",
        "#     X_train[n]=img\n",
        "#     mask = np.zeros((IMG_HEIGHT, IMG_WIDTH, 1), dtype=np.bool)\n",
        "#     for mask_file in next(os.walk(path + '/masks/'))[2]:\n",
        "#         mask_ =cv2.imread(path + '/masks/' + mask_file,0)\n",
        "#         mask_ = np.expand_dims(resize(mask_, (IMG_HEIGHT, IMG_WIDTH), mode='constant',  \n",
        "#                                       preserve_range=True), axis=-1)\n",
        "#         mask = np.maximum(mask, mask_)  \n",
        "            \n",
        "#     Y_train[n] = mask \n"
      ]
    },
    {
      "cell_type": "code",
      "execution_count": null,
      "metadata": {
        "colab": {
          "base_uri": "https://localhost:8080/",
          "height": 546
        },
        "id": "L3KPBrV7v1iZ",
        "outputId": "8c81690c-15f0-468d-f3ae-26b66a394149"
      },
      "outputs": [
        {
          "data": {
            "image/png": "[encoded data removed]",
            "text/plain": [
              "<PIL.Image.Image image mode=RGB size=256x256 at 0x7F8A206A1590>"
            ]
          },
          "metadata": {},
          "output_type": "display_data"
        },
        {
          "data": {
            "image/png": "[encoded data removed]",
            "text/plain": [
              "<PIL.Image.Image image mode=RGB size=256x256 at 0x7F8A206A1510>"
            ]
          },
          "metadata": {},
          "output_type": "display_data"
        },
        {
          "data": {
            "text/plain": [
              "(None, None)"
            ]
          },
          "execution_count": 10,
          "metadata": {},
          "output_type": "execute_result"
        }
      ],
      "source": [
        "cv2_imshow(X_train[0]),cv2_imshow(Y_train[0]*255)"
      ]
    },
    {
      "cell_type": "code",
      "execution_count": null,
      "metadata": {
        "id": "Ufem4ZNGzPeF"
      },
      "outputs": [],
      "source": [
        "def iou(y_true,y_pred):\n",
        "  smooth=1\n",
        "  intersection=K.backend.sum(K.backend.abs(y_true*y_pred*1.0),axis=[1,2,3])\n",
        "  union=K.backend.sum(y_true*1.0,axis=[1,2,3])+K.backend.sum(y_pred*1.0,axis=[1,2,3])-intersection\n",
        "  return K.backend.mean((intersection+smooth)/(union+smooth),axis=0)\n",
        "def log_iou(y_true,y_pred):\n",
        "  return -K.backend.log(iou(y_true,y_pred))\n",
        "def bcc(y_true,y_pred):\n",
        "  return K.losses.binary_crossentropy(y_true,y_pred,axis=[1,2,3])"
      ]
    },
    {
      "cell_type": "code",
      "execution_count": null,
      "metadata": {
        "colab": {
          "base_uri": "https://localhost:8080/"
        },
        "id": "b-thpe1l6T90",
        "outputId": "e480b70b-b893-494e-eaf9-50d201a55b44"
      },
      "outputs": [
        {
          "output_type": "execute_result",
          "data": {
            "text/plain": [
              "1"
            ]
          },
          "metadata": {},
          "execution_count": 22
        }
      ],
      "source": [
        ""
      ]
    },
    {
      "cell_type": "code",
      "execution_count": null,
      "metadata": {
        "colab": {
          "base_uri": "https://localhost:8080/"
        },
        "id": "NBJJ3fkNlQqu",
        "outputId": "12f58cb9-92d0-4d79-ba5a-57766860d258"
      },
      "outputs": [
        {
          "name": "stdout",
          "output_type": "stream",
          "text": [
            "Model: \"model_1\"\n",
            "__________________________________________________________________________________________________\n",
            " Layer (type)                   Output Shape         Param #     Connected to                     \n",
            "==================================================================================================\n",
            " input_2 (InputLayer)           [(None, 96, 96, 3)]  0           []                               \n",
            "                                                                                                  \n",
            " conv2d_27 (Conv2D)             (None, 96, 96, 256)  7168        ['input_2[0][0]']                \n",
            "                                                                                                  \n",
            " batch_normalization_26 (BatchN  (None, 96, 96, 256)  1024       ['conv2d_27[0][0]']              \n",
            " ormalization)                                                                                    \n",
            "                                                                                                  \n",
            " tf.identity_20 (TFOpLambda)    (None, 96, 96, 256)  0           ['batch_normalization_26[0][0]'] \n",
            "                                                                                                  \n",
            " conv2d_28 (Conv2D)             (None, 96, 96, 256)  590080      ['tf.identity_20[0][0]']         \n",
            "                                                                                                  \n",
            " batch_normalization_27 (BatchN  (None, 96, 96, 256)  1024       ['conv2d_28[0][0]']              \n",
            " ormalization)                                                                                    \n",
            "                                                                                                  \n",
            " tf.identity_21 (TFOpLambda)    (None, 96, 96, 256)  0           ['batch_normalization_27[0][0]'] \n",
            "                                                                                                  \n",
            " max_pooling2d_6 (MaxPooling2D)  (None, 48, 48, 256)  0          ['tf.identity_21[0][0]']         \n",
            "                                                                                                  \n",
            " conv2d_29 (Conv2D)             (None, 48, 48, 128)  295040      ['max_pooling2d_6[0][0]']        \n",
            "                                                                                                  \n",
            " batch_normalization_28 (BatchN  (None, 48, 48, 128)  512        ['conv2d_29[0][0]']              \n",
            " ormalization)                                                                                    \n",
            "                                                                                                  \n",
            " tf.identity_22 (TFOpLambda)    (None, 48, 48, 128)  0           ['batch_normalization_28[0][0]'] \n",
            "                                                                                                  \n",
            " conv2d_30 (Conv2D)             (None, 48, 48, 128)  147584      ['tf.identity_22[0][0]']         \n",
            "                                                                                                  \n",
            " batch_normalization_29 (BatchN  (None, 48, 48, 128)  512        ['conv2d_30[0][0]']              \n",
            " ormalization)                                                                                    \n",
            "                                                                                                  \n",
            " tf.identity_23 (TFOpLambda)    (None, 48, 48, 128)  0           ['batch_normalization_29[0][0]'] \n",
            "                                                                                                  \n",
            " max_pooling2d_7 (MaxPooling2D)  (None, 24, 24, 128)  0          ['tf.identity_23[0][0]']         \n",
            "                                                                                                  \n",
            " conv2d_31 (Conv2D)             (None, 24, 24, 64)   73792       ['max_pooling2d_7[0][0]']        \n",
            "                                                                                                  \n",
            " batch_normalization_30 (BatchN  (None, 24, 24, 64)  256         ['conv2d_31[0][0]']              \n",
            " ormalization)                                                                                    \n",
            "                                                                                                  \n",
            " tf.identity_24 (TFOpLambda)    (None, 24, 24, 64)   0           ['batch_normalization_30[0][0]'] \n",
            "                                                                                                  \n",
            " conv2d_32 (Conv2D)             (None, 24, 24, 64)   36928       ['tf.identity_24[0][0]']         \n",
            "                                                                                                  \n",
            " batch_normalization_31 (BatchN  (None, 24, 24, 64)  256         ['conv2d_32[0][0]']              \n",
            " ormalization)                                                                                    \n",
            "                                                                                                  \n",
            " tf.identity_25 (TFOpLambda)    (None, 24, 24, 64)   0           ['batch_normalization_31[0][0]'] \n",
            "                                                                                                  \n",
            " max_pooling2d_8 (MaxPooling2D)  (None, 12, 12, 64)  0           ['tf.identity_25[0][0]']         \n",
            "                                                                                                  \n",
            " conv2d_33 (Conv2D)             (None, 12, 12, 32)   18464       ['max_pooling2d_8[0][0]']        \n",
            "                                                                                                  \n",
            " batch_normalization_32 (BatchN  (None, 12, 12, 32)  128         ['conv2d_33[0][0]']              \n",
            " ormalization)                                                                                    \n",
            "                                                                                                  \n",
            " tf.identity_26 (TFOpLambda)    (None, 12, 12, 32)   0           ['batch_normalization_32[0][0]'] \n",
            "                                                                                                  \n",
            " conv2d_34 (Conv2D)             (None, 12, 12, 32)   9248        ['tf.identity_26[0][0]']         \n",
            "                                                                                                  \n",
            " batch_normalization_33 (BatchN  (None, 12, 12, 32)  128         ['conv2d_34[0][0]']              \n",
            " ormalization)                                                                                    \n",
            "                                                                                                  \n",
            " tf.identity_27 (TFOpLambda)    (None, 12, 12, 32)   0           ['batch_normalization_33[0][0]'] \n",
            "                                                                                                  \n",
            " conv2d_transpose_6 (Conv2DTran  (None, 24, 24, 64)  8256        ['tf.identity_27[0][0]']         \n",
            " spose)                                                                                           \n",
            "                                                                                                  \n",
            " concatenate_9 (Concatenate)    (None, 24, 24, 128)  0           ['conv2d_transpose_6[0][0]',     \n",
            "                                                                  'tf.identity_25[0][0]']         \n",
            "                                                                                                  \n",
            " conv2d_35 (Conv2D)             (None, 24, 24, 64)   73792       ['concatenate_9[0][0]']          \n",
            "                                                                                                  \n",
            " batch_normalization_34 (BatchN  (None, 24, 24, 64)  256         ['conv2d_35[0][0]']              \n",
            " ormalization)                                                                                    \n",
            "                                                                                                  \n",
            " conv2d_36 (Conv2D)             (None, 24, 24, 64)   36928       ['batch_normalization_34[0][0]'] \n",
            "                                                                                                  \n",
            " batch_normalization_35 (BatchN  (None, 24, 24, 64)  256         ['conv2d_36[0][0]']              \n",
            " ormalization)                                                                                    \n",
            "                                                                                                  \n",
            " tf.identity_28 (TFOpLambda)    (None, 24, 24, 64)   0           ['batch_normalization_35[0][0]'] \n",
            "                                                                                                  \n",
            " conv2d_transpose_7 (Conv2DTran  (None, 48, 48, 128)  32896      ['tf.identity_28[0][0]']         \n",
            " spose)                                                                                           \n",
            "                                                                                                  \n",
            " concatenate_10 (Concatenate)   (None, 48, 48, 256)  0           ['conv2d_transpose_7[0][0]',     \n",
            "                                                                  'tf.identity_23[0][0]']         \n",
            "                                                                                                  \n",
            " conv2d_37 (Conv2D)             (None, 48, 48, 128)  295040      ['concatenate_10[0][0]']         \n",
            "                                                                                                  \n",
            " batch_normalization_36 (BatchN  (None, 48, 48, 128)  512        ['conv2d_37[0][0]']              \n",
            " ormalization)                                                                                    \n",
            "                                                                                                  \n",
            " conv2d_38 (Conv2D)             (None, 48, 48, 64)   73792       ['batch_normalization_36[0][0]'] \n",
            "                                                                                                  \n",
            " batch_normalization_37 (BatchN  (None, 48, 48, 64)  256         ['conv2d_38[0][0]']              \n",
            " ormalization)                                                                                    \n",
            "                                                                                                  \n",
            " tf.identity_29 (TFOpLambda)    (None, 48, 48, 64)   0           ['batch_normalization_37[0][0]'] \n",
            "                                                                                                  \n",
            " conv2d_transpose_8 (Conv2DTran  (None, 96, 96, 256)  65792      ['tf.identity_29[0][0]']         \n",
            " spose)                                                                                           \n",
            "                                                                                                  \n",
            " concatenate_11 (Concatenate)   (None, 96, 96, 512)  0           ['conv2d_transpose_8[0][0]',     \n",
            "                                                                  'tf.identity_21[0][0]']         \n",
            "                                                                                                  \n",
            " conv2d_39 (Conv2D)             (None, 96, 96, 128)  589952      ['concatenate_11[0][0]']         \n",
            "                                                                                                  \n",
            " batch_normalization_38 (BatchN  (None, 96, 96, 128)  512        ['conv2d_39[0][0]']              \n",
            " ormalization)                                                                                    \n",
            "                                                                                                  \n",
            " conv2d_40 (Conv2D)             (None, 96, 96, 128)  147584      ['batch_normalization_38[0][0]'] \n",
            "                                                                                                  \n",
            " batch_normalization_39 (BatchN  (None, 96, 96, 128)  512        ['conv2d_40[0][0]']              \n",
            " ormalization)                                                                                    \n",
            "                                                                                                  \n",
            " tf.identity_30 (TFOpLambda)    (None, 96, 96, 128)  0           ['batch_normalization_39[0][0]'] \n",
            "                                                                                                  \n",
            " max_pooling2d_9 (MaxPooling2D)  (None, 48, 48, 128)  0          ['tf.identity_30[0][0]']         \n",
            "                                                                                                  \n",
            " conv2d_41 (Conv2D)             (None, 48, 48, 256)  295168      ['max_pooling2d_9[0][0]']        \n",
            "                                                                                                  \n",
            " concatenate_12 (Concatenate)   (None, 48, 48, 448)  0           ['tf.identity_29[0][0]',         \n",
            "                                                                  'conv2d_41[0][0]',              \n",
            "                                                                  'tf.identity_23[0][0]']         \n",
            "                                                                                                  \n",
            " batch_normalization_40 (BatchN  (None, 48, 48, 448)  1792       ['concatenate_12[0][0]']         \n",
            " ormalization)                                                                                    \n",
            "                                                                                                  \n",
            " tf.identity_31 (TFOpLambda)    (None, 48, 48, 448)  0           ['batch_normalization_40[0][0]'] \n",
            "                                                                                                  \n",
            " conv2d_42 (Conv2D)             (None, 48, 48, 256)  1032448     ['tf.identity_31[0][0]']         \n",
            "                                                                                                  \n",
            " batch_normalization_41 (BatchN  (None, 48, 48, 256)  1024       ['conv2d_42[0][0]']              \n",
            " ormalization)                                                                                    \n",
            "                                                                                                  \n",
            " tf.identity_32 (TFOpLambda)    (None, 48, 48, 256)  0           ['batch_normalization_41[0][0]'] \n",
            "                                                                                                  \n",
            " max_pooling2d_10 (MaxPooling2D  (None, 24, 24, 256)  0          ['tf.identity_32[0][0]']         \n",
            " )                                                                                                \n",
            "                                                                                                  \n",
            " conv2d_43 (Conv2D)             (None, 24, 24, 128)  295040      ['max_pooling2d_10[0][0]']       \n",
            "                                                                                                  \n",
            " concatenate_13 (Concatenate)   (None, 24, 24, 256)  0           ['conv2d_43[0][0]',              \n",
            "                                                                  'tf.identity_28[0][0]',         \n",
            "                                                                  'tf.identity_25[0][0]']         \n",
            "                                                                                                  \n",
            " batch_normalization_42 (BatchN  (None, 24, 24, 256)  1024       ['concatenate_13[0][0]']         \n",
            " ormalization)                                                                                    \n",
            "                                                                                                  \n",
            " tf.identity_33 (TFOpLambda)    (None, 24, 24, 256)  0           ['batch_normalization_42[0][0]'] \n",
            "                                                                                                  \n",
            " conv2d_44 (Conv2D)             (None, 24, 24, 128)  295040      ['tf.identity_33[0][0]']         \n",
            "                                                                                                  \n",
            " batch_normalization_43 (BatchN  (None, 24, 24, 128)  512        ['conv2d_44[0][0]']              \n",
            " ormalization)                                                                                    \n",
            "                                                                                                  \n",
            " tf.identity_34 (TFOpLambda)    (None, 24, 24, 128)  0           ['batch_normalization_43[0][0]'] \n",
            "                                                                                                  \n",
            " max_pooling2d_11 (MaxPooling2D  (None, 12, 12, 128)  0          ['tf.identity_34[0][0]']         \n",
            " )                                                                                                \n",
            "                                                                                                  \n",
            " conv2d_45 (Conv2D)             (None, 12, 12, 64)   73792       ['max_pooling2d_11[0][0]']       \n",
            "                                                                                                  \n",
            " concatenate_14 (Concatenate)   (None, 12, 12, 96)   0           ['tf.identity_27[0][0]',         \n",
            "                                                                  'conv2d_45[0][0]']              \n",
            "                                                                                                  \n",
            " batch_normalization_44 (BatchN  (None, 12, 12, 96)  384         ['concatenate_14[0][0]']         \n",
            " ormalization)                                                                                    \n",
            "                                                                                                  \n",
            " tf.identity_35 (TFOpLambda)    (None, 12, 12, 96)   0           ['batch_normalization_44[0][0]'] \n",
            "                                                                                                  \n",
            " conv2d_46 (Conv2D)             (None, 12, 12, 64)   55360       ['tf.identity_35[0][0]']         \n",
            "                                                                                                  \n",
            " batch_normalization_45 (BatchN  (None, 12, 12, 64)  256         ['conv2d_46[0][0]']              \n",
            " ormalization)                                                                                    \n",
            "                                                                                                  \n",
            " tf.identity_36 (TFOpLambda)    (None, 12, 12, 64)   0           ['batch_normalization_45[0][0]'] \n",
            "                                                                                                  \n",
            " conv2d_transpose_9 (Conv2DTran  (None, 24, 24, 128)  32896      ['tf.identity_36[0][0]']         \n",
            " spose)                                                                                           \n",
            "                                                                                                  \n",
            " concatenate_15 (Concatenate)   (None, 24, 24, 384)  0           ['conv2d_transpose_9[0][0]',     \n",
            "                                                                  'tf.identity_34[0][0]',         \n",
            "                                                                  'tf.identity_28[0][0]',         \n",
            "                                                                  'tf.identity_25[0][0]']         \n",
            "                                                                                                  \n",
            " conv2d_47 (Conv2D)             (None, 24, 24, 128)  442496      ['concatenate_15[0][0]']         \n",
            "                                                                                                  \n",
            " batch_normalization_46 (BatchN  (None, 24, 24, 128)  512        ['conv2d_47[0][0]']              \n",
            " ormalization)                                                                                    \n",
            "                                                                                                  \n",
            " conv2d_48 (Conv2D)             (None, 24, 24, 128)  147584      ['batch_normalization_46[0][0]'] \n",
            "                                                                                                  \n",
            " batch_normalization_47 (BatchN  (None, 24, 24, 128)  512        ['conv2d_48[0][0]']              \n",
            " ormalization)                                                                                    \n",
            "                                                                                                  \n",
            " tf.identity_37 (TFOpLambda)    (None, 24, 24, 128)  0           ['batch_normalization_47[0][0]'] \n",
            "                                                                                                  \n",
            " conv2d_transpose_10 (Conv2DTra  (None, 48, 48, 64)  32832       ['tf.identity_37[0][0]']         \n",
            " nspose)                                                                                          \n",
            "                                                                                                  \n",
            " concatenate_16 (Concatenate)   (None, 48, 48, 512)  0           ['conv2d_transpose_10[0][0]',    \n",
            "                                                                  'tf.identity_32[0][0]',         \n",
            "                                                                  'tf.identity_29[0][0]',         \n",
            "                                                                  'tf.identity_23[0][0]']         \n",
            "                                                                                                  \n",
            " conv2d_49 (Conv2D)             (None, 48, 48, 64)   294976      ['concatenate_16[0][0]']         \n",
            "                                                                                                  \n",
            " batch_normalization_48 (BatchN  (None, 48, 48, 64)  256         ['conv2d_49[0][0]']              \n",
            " ormalization)                                                                                    \n",
            "                                                                                                  \n",
            " conv2d_50 (Conv2D)             (None, 48, 48, 64)   36928       ['batch_normalization_48[0][0]'] \n",
            "                                                                                                  \n",
            " batch_normalization_49 (BatchN  (None, 48, 48, 64)  256         ['conv2d_50[0][0]']              \n",
            " ormalization)                                                                                    \n",
            "                                                                                                  \n",
            " tf.identity_38 (TFOpLambda)    (None, 48, 48, 64)   0           ['batch_normalization_49[0][0]'] \n",
            "                                                                                                  \n",
            " conv2d_transpose_11 (Conv2DTra  (None, 96, 96, 256)  65792      ['tf.identity_38[0][0]']         \n",
            " nspose)                                                                                          \n",
            "                                                                                                  \n",
            " concatenate_17 (Concatenate)   (None, 96, 96, 640)  0           ['conv2d_transpose_11[0][0]',    \n",
            "                                                                  'tf.identity_30[0][0]',         \n",
            "                                                                  'tf.identity_21[0][0]']         \n",
            "                                                                                                  \n",
            " conv2d_51 (Conv2D)             (None, 96, 96, 256)  1474816     ['concatenate_17[0][0]']         \n",
            "                                                                                                  \n",
            " batch_normalization_50 (BatchN  (None, 96, 96, 256)  1024       ['conv2d_51[0][0]']              \n",
            " ormalization)                                                                                    \n",
            "                                                                                                  \n",
            " conv2d_52 (Conv2D)             (None, 96, 96, 256)  590080      ['batch_normalization_50[0][0]'] \n",
            "                                                                                                  \n",
            " batch_normalization_51 (BatchN  (None, 96, 96, 256)  1024       ['conv2d_52[0][0]']              \n",
            " ormalization)                                                                                    \n",
            "                                                                                                  \n",
            " tf.identity_39 (TFOpLambda)    (None, 96, 96, 256)  0           ['batch_normalization_51[0][0]'] \n",
            "                                                                                                  \n",
            " conv2d_53 (Conv2D)             (None, 96, 96, 1)    257         ['tf.identity_39[0][0]']         \n",
            "                                                                                                  \n",
            "==================================================================================================\n",
            "Total params: 7,682,561\n",
            "Trainable params: 7,675,201\n",
            "Non-trainable params: 7,360\n",
            "__________________________________________________________________________________________________\n"
          ]
        }
      ],
      "source": [
        "def conv2d(filters: int):\n",
        "    return Conv2D(filters=filters,kernel_size=(3, 3),\n",
        "                  padding='same',activation='relu')\n",
        "def conv2dtranspose(filters: int):\n",
        "    return Conv2DTranspose(filters=filters,activation='relu',kernel_size=(2, 2),strides=(2, 2),padding='same')\n",
        "\n",
        "model_input=Input((IMG_HEIGHT,IMG_WIDTH,IMG_CHANNELS))\n",
        "x00 = Conv2D(256,3,padding='same',activation='relu')(model_input)\n",
        "x00 = BatchNormalization()(x00)\n",
        "x00 = Dropout(0.02)(x00)\n",
        "x00 = Conv2D(256,3,padding='same',activation='relu')(x00)\n",
        "x00 = BatchNormalization()(x00)\n",
        "x00 = Dropout(0.02)(x00)\n",
        "p0 = MaxPooling2D(pool_size=(2, 2))(x00)\n",
        "\n",
        "x10 = Conv2D(128,3,padding='same',activation='relu')(p0)\n",
        "x10 = BatchNormalization()(x10)\n",
        "x10 = Dropout(0.02)(x10)\n",
        "x10 = Conv2D(128,3,padding='same',activation='relu')(x10)\n",
        "x10 = BatchNormalization()(x10)\n",
        "x10 = Dropout(0.02)(x10)\n",
        "p1 = MaxPooling2D(pool_size=(2, 2))(x10)\n",
        "\n",
        "x20 = Conv2D(64,3,padding='same',activation='relu')(p1)\n",
        "x20 = BatchNormalization()(x20)\n",
        "x20 = Dropout(0.02)(x20)\n",
        "x20 = Conv2D(64,3,padding='same',activation='relu')(x20)\n",
        "x20 = BatchNormalization()(x20)\n",
        "x20 = Dropout(0.02)(x20)\n",
        "p2 = MaxPooling2D(pool_size=(2, 2))(x20)\n",
        "\n",
        "x30 = Conv2D(32,3,padding='same',activation='relu')(p2)\n",
        "x30 = BatchNormalization()(x30)\n",
        "x30 = Dropout(0.02)(x30)\n",
        "x30 = Conv2D(32,3,padding='same',activation='relu')(x30)\n",
        "x30 = BatchNormalization()(x30)\n",
        "x30 = Dropout(0.02)(x30)\n",
        "\n",
        "x21 = conv2dtranspose(64)(x30)\n",
        "x21 = concatenate([x21,x20])\n",
        "x21 = conv2d(64)(x21)\n",
        "x21 = BatchNormalization()(x21)\n",
        "x21 = conv2d(64)(x21)\n",
        "x21 = BatchNormalization()(x21)\n",
        "x21 = Dropout(0.02)(x21)\n",
        "\n",
        "x11 = conv2dtranspose(128)(x21)\n",
        "x11 = concatenate([x11,x10])\n",
        "x11 = conv2d(128)(x11)\n",
        "x11 = BatchNormalization()(x11)\n",
        "x11 = conv2d(64)(x11)\n",
        "x11 = BatchNormalization()(x11)\n",
        "x11 = Dropout(0.02)(x11)\n",
        "\n",
        "x01 = conv2dtranspose(256)(x11)\n",
        "x01 = concatenate([x01,x00])\n",
        "x01 = conv2d(128)(x01)\n",
        "x01 = BatchNormalization()(x01)\n",
        "x01 = conv2d(128)(x01)\n",
        "x01 = BatchNormalization()(x01)\n",
        "x01 = Dropout(0.02)(x01)\n",
        "p01=MaxPooling2D((2,2))(x01)\n",
        "\n",
        "x12 = Conv2D(256,3,padding='same',activation='relu')(p01)\n",
        "x12=concatenate([x11,x12,x10])\n",
        "x12 = BatchNormalization()(x12)\n",
        "x12 = Dropout(0.02)(x12)\n",
        "x12 = Conv2D(256,3,padding='same',activation='relu')(x12)\n",
        "x12 = BatchNormalization()(x12)\n",
        "x12 = Dropout(0.02)(x12)\n",
        "p12= MaxPooling2D(pool_size=(2, 2))(x12)\n",
        "\n",
        "x23 = Conv2D(128,3,padding='same',activation='relu')(p12)\n",
        "x23=concatenate([x23,x21,x20])\n",
        "x23 = BatchNormalization()(x23)\n",
        "x23 = Dropout(0.02)(x23)\n",
        "x23 = Conv2D(128,3,padding='same',activation='relu')(x23)\n",
        "x23 = BatchNormalization()(x23)\n",
        "x23 = Dropout(0.02)(x23)\n",
        "p23= MaxPooling2D(pool_size=(2, 2))(x23)\n",
        "\n",
        "x31 = Conv2D(64,3,padding='same',activation='relu')(p23)\n",
        "x31=concatenate([x30,x31])\n",
        "x31 = BatchNormalization()(x31)\n",
        "x31 = Dropout(0.02)(x31)\n",
        "x31 = Conv2D(64,3,padding='same',activation='relu')(x31)\n",
        "x31 = BatchNormalization()(x31)\n",
        "x31 = Dropout(0.02)(x31)\n",
        "\n",
        "x24 = conv2dtranspose(128)(x31)\n",
        "x24 = concatenate([x24,x23,x21,x20])\n",
        "x24 = conv2d(128)(x24)\n",
        "x24 = BatchNormalization()(x24)\n",
        "x24 = conv2d(128)(x24)\n",
        "x24 = BatchNormalization()(x24)\n",
        "x24 = Dropout(0.02)(x24)\n",
        "\n",
        "x13 = conv2dtranspose(64)(x24)\n",
        "x13 = concatenate([x13,x12,x11,x10])\n",
        "x13 = conv2d(64)(x13)\n",
        "x13 = BatchNormalization()(x13)\n",
        "x13 = conv2d(64)(x13)\n",
        "x13 = BatchNormalization()(x13)\n",
        "x13 = Dropout(0.02)(x13)\n",
        "\n",
        "x02 = conv2dtranspose(256)(x13)\n",
        "x02 = concatenate([x02,x01,x00])\n",
        "x02 = conv2d(256)(x02)\n",
        "x02 = BatchNormalization()(x02)\n",
        "x02 = conv2d(256)(x02)\n",
        "x02 = BatchNormalization()(x02)\n",
        "x02 = Dropout(0.02)(x02)\n",
        "\n",
        "out=Conv2D(1,1,activation=\"sigmoid\")(x02)\n",
        "\n",
        "model=Model(inputs=model_input,outputs=out)\n",
        "model.summary()\n",
        "# model.compile(optimizer='adam',loss='binary_crossentropy',metrics=[iou])\n"
      ]
    },
    {
      "cell_type": "code",
      "execution_count": null,
      "metadata": {
        "colab": {
          "base_uri": "https://localhost:8080/"
        },
        "id": "fokH_p9KCMze",
        "outputId": "a35e4189-514d-4b06-bd24-8369900c3396"
      },
      "outputs": [
        {
          "name": "stdout",
          "output_type": "stream",
          "text": [
            "Epoch 1/10\n",
            "224/224 [==============================] - 647s 3s/step - loss: 0.0673 - iou: 0.7660\n",
            "Epoch 2/10\n",
            "224/224 [==============================] - 647s 3s/step - loss: 0.0680 - iou: 0.7636\n",
            "Epoch 3/10\n",
            "224/224 [==============================] - 647s 3s/step - loss: 0.0677 - iou: 0.7636\n",
            "Epoch 4/10\n",
            "224/224 [==============================] - 647s 3s/step - loss: 0.0665 - iou: 0.7677\n",
            "Epoch 5/10\n",
            "224/224 [==============================] - 647s 3s/step - loss: 0.0656 - iou: 0.7710\n",
            "Epoch 6/10\n",
            "224/224 [==============================] - 647s 3s/step - loss: 0.0688 - iou: 0.7647\n",
            "Epoch 7/10\n",
            "124/224 [===============>..............] - ETA: 4:49 - loss: 0.0761 - iou: 0.7415"
          ]
        }
      ],
      "source": [
        "model.load_weights(\"/content/drive/MyDrive/MyUnet.h5\")\n",
        "model.fit(X_train,Y_train,epochs=10,batch_size=3)"
      ]
    },
    {
      "cell_type": "code",
      "execution_count": null,
      "metadata": {
        "id": "8Arbj0aiHuLv"
      },
      "outputs": [],
      "source": [
        "model.save_weights(\"MyUnet.h5\")\n",
        "!cp '/content/MyUnet.h5' -r '/content/drive/MyDrive'"
      ]
    },
    {
      "cell_type": "code",
      "execution_count": null,
      "metadata": {
        "colab": {
          "base_uri": "https://localhost:8080/",
          "height": 546
        },
        "id": "MlN9u998iP6m",
        "outputId": "3bcb0208-4093-43d9-a882-b84d5c15fe2a"
      },
      "outputs": [
        {
          "data": {
            "image/png": "[encoded data removed]",
            "text/plain": [
              "<PIL.Image.Image image mode=RGB size=256x256 at 0x7F1F08A1CC10>"
            ]
          },
          "metadata": {},
          "output_type": "display_data"
        },
        {
          "data": {
            "image/png": "[encoded data removed]",
            "text/plain": [
              "<PIL.Image.Image image mode=RGB size=256x256 at 0x7F1F092DB8D0>"
            ]
          },
          "metadata": {},
          "output_type": "display_data"
        },
        {
          "data": {
            "text/plain": [
              "(None, None)"
            ]
          },
          "execution_count": 9,
          "metadata": {},
          "output_type": "execute_result"
        }
      ],
      "source": [
        "img=cv2.imread(\"/content/stage1_test/191b2b2205f2f5cc9da04702c5d422bc249faf8bca1107af792da63cccfba829/images/191b2b2205f2f5cc9da04702c5d422bc249faf8bca1107af792da63cccfba829.png\")\n",
        "img_=np.reshape(img,(1,256,256,3))\n",
        "pred=model.predict(img_)\n",
        "cv2_imshow(img_[0]),cv2_imshow(pred[0]*255)"
      ]
    },
    {
      "cell_type": "code",
      "execution_count": null,
      "metadata": {
        "id": "j0pvPld_oREs"
      },
      "outputs": [],
      "source": [
        ""
      ]
    }
  ],
  "metadata": {
    "accelerator": "GPU",
    "colab": {
      "collapsed_sections": [],
      "name": "compare My neural network.ipynb",
      "provenance": [],
      "mount_file_id": "10t1AEB_iOKPmZ7Ebs2AT2vm2SGSXjPoF",
      "authorship_tag": "ABX9TyPpZWw6Q0xKeQSmBcJwYwSe",
      "include_colab_link": true
    },
    "kernelspec": {
      "display_name": "Python 3",
      "name": "python3"
    },
    "language_info": {
      "name": "python"
    }
  },
  "nbformat": 4,
  "nbformat_minor": 0
}